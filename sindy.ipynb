{
 "cells": [
  {
   "cell_type": "markdown",
   "metadata": {},
   "source": [
    "# SINDy"
   ]
  },
  {
   "cell_type": "markdown",
   "metadata": {},
   "source": [
    "For users already familiar with the interface, see the [API docs](../api/index_sindy.rst).\n",
    "\n",
    "SINDy stands for Sparse Identification of Nonlinear Dynamics <cite data-footcite=\"brunton2016sindy\">(Brunton, 2016)</cite>. It is a data-driven method for discovering dynamical systems models from measurement data using sparse regression."
   ]
  },
  {
   "cell_type": "markdown",
   "metadata": {},
   "source": [
    "## Main ideas\n",
    "Suppose we have a set of measurements $x(t)\\in \\mathbb{R}^n$ from some physical system at different points in time $t$. SINDy attempts to represent the time evolution of $x(t)$ in terms of a nonlinear function $f$:\n",
    "\n",
    "$$ \\frac{d}{dt}x(t) = f(x(t)). $$\n",
    "\n",
    "This equation constitutes a *dynamical system* for the measurements $x(t)$. The vector $x(t)=[x_1(t), x_2(t), \\dots x_n(t)]^\\top$ gives the state of the physical system at time $t$. The function $f(x(t))$ constrains how the system evolves in time.\n",
    "\n",
    "The key idea behind SINDy is that the function $f$ is often **sparse** in the space of an appropriate set of basis functions. For example, the function\n",
    "\n",
    "$$ \n",
    "\t\\frac{d}{dt}x = f(x)\n",
    "\t= \\begin{bmatrix} f_1(x)\\\\f_2(x) \\end{bmatrix}\n",
    "\t= \\begin{bmatrix}-2 + x_1^2 + 3x_1x_2 \\\\ 7x_2^4 - 2x_1^3 \\end{bmatrix}\n",
    "$$\n",
    "\n",
    "is sparse with respect to the set of polynomials of two variables in the sense that if we were to write an expansion of the component functions of $f$ in this basis (e.g. $f_{1}(x) = \\sum_{i=0}^\\infty\\sum_{j=0}^\\infty a_{i,j}x_1^ix_2^j$), only a small number of coefficients ($a_{i,j}$) would be nonzero.\n",
    "\n",
    "SINDy employs **sparse regression** to find a linear combination of basis functions that best capture the dynamic behavior of the physical system."
   ]
  },
  {
   "cell_type": "markdown",
   "metadata": {},
   "source": [
    "## Approximation problem\n",
    "To apply SINDy in practice one needs a set of measurement data collected at times $t_1, t_2, \\dots, t_n$, and the time derivatives of these measurements (either measured directly or numerically approximated). These data are aggregated into the matrices $X$ and $\\dot X$, respectively\n",
    "\n",
    "$$\n",
    "\tX = \\begin{bmatrix}\n",
    "\t\tx_1(t_1) & x_2(t_1) & \\dots & x_n(t_1) \\\\\n",
    "\t\tx_1(t_2) & x_2(t_2) & \\dots & x_n(t_2) \\\\\n",
    "\t\t\\vdots & \\vdots & & \\vdots \\\\ x_1(t_m) & x_2(t_m) & \\dots & x_n(t_m)\n",
    "\t\\end{bmatrix},\n",
    "\t\\qquad\n",
    "\t\\dot{X} = \\begin{bmatrix} \\dot{x_1}(t_1) & \\dot{x_2}(t_1) & \\dots & \\dot{x_n}(t_1) \\\\\n",
    "\t\t\\dot{x_1}(t_2) & \\dot{x_2}(t_2) & \\dots & \\dot{x_n}(t_2) \\\\\n",
    "\t\t\\vdots & \\vdots & & \\vdots \\\\\n",
    "\t\t\\dot{x_1}(t_m) & \\dot{x_2}(t_m) & \\dots & \\dot{x_n}(t_m)\n",
    "\t\\end{bmatrix}.\n",
    "$$\n",
    "\n",
    "Next, one forms a library matrix $\\Theta(X)$ whose columns consist of a chosen set of basis functions applied to the data\n",
    "\n",
    "$$\n",
    "\t\\Theta(X) = \\begin{bmatrix}\n",
    "\t\t\\mid & \\mid & & \\mid \\\\\n",
    "\t\t\\theta_1(X) & \\theta_2(X) & \\dots & \\theta_\\ell(X) \\\\\n",
    "\t\t\\mid & \\mid & & \\mid \n",
    "\t\\end{bmatrix}.\n",
    "$$\n",
    "\n",
    "For example, if $\\theta_1(x), \\theta_2(x), \\dots, \\theta_\\ell(x)$ are monomials ($\\theta_i(x) = x^{i-1}$), then \n",
    "\n",
    "$$\n",
    "\t\\theta_3(X) = \\begin{bmatrix}\n",
    "\t\t\\mid & \\mid & & \\mid & \\mid & & \\mid \\\\\n",
    "\t\tx_1(t)^2 & x_1(t)x_2(t) & \\dots & x_2(t)^2 & x_2(t)x_3(t) & \\dots & x_n^2(t) \\\\\n",
    "\t\t\\mid & \\mid & & \\mid & \\mid & & \\mid\n",
    "\t\\end{bmatrix},\n",
    "$$\n",
    "\n",
    "where vector products and powers are understood to be element-wise.\n",
    "\n",
    "We seek a set of sparse coefficient vectors (collected into a matrix)\n",
    "\n",
    "$$\n",
    "\t\\Xi = \\begin{bmatrix}\n",
    "\t\t\\mid & \\mid & & \\mid \\\\\n",
    "\t\t\\xi_1 & \\xi_2 & \\dots & \\xi_n \\\\\n",
    "\t\t\\mid & \\mid & & \\mid\n",
    "\t\\end{bmatrix}.\n",
    "$$\n",
    "\n",
    "The vector $\\xi_i$ provides the coefficients for a linear combination of basis functions $\\theta_1(x), \\theta_2(x), \\dots, \\theta_\\ell(x)$ representing the $i$th component function of $f$: $f_i(x)$. That is to say, $f_i(x) = \\Theta\\left(x^\\top\\right) \\xi_i$, where $\\Theta\\left(x^\\top\\right)$ is understood to be a row vector consisting of symbolic functions (whereas $\\Theta(X)$ is a matrix whose entries are numerical values).\n",
    "\n",
    "With each of the objects $X$, $\\dot X$, $\\Theta(X)$, and $\\Xi$ being defined, we are ready to write down the approximation problem underlying SINDy:\n",
    "\n",
    "$$ \\dot X \\approx \\Theta(X)\\Xi. $$"
   ]
  },
  {
   "cell_type": "markdown",
   "metadata": {},
   "source": [
    "## Deeptime SINDy objects\n",
    "Deeptime has two SINDy objects:\n",
    "\n",
    "* [SINDy](../api/generated/deeptime.sindy.SINDy.rst#deeptime.sindy.SINDy) is used to solve the above optimization problem given $\\Theta$, $X$, and (optionally) $\\dot{X}$. By default $\\Theta$ is a polynomial library of degree 2 and the sequentially-thresholded least-squares algorithm <cite data-footcite=\"brunton2016sindy\">(Brunton, 2016)</cite> is used to solve the optimization problem. If $\\dot{X}$ is not passed in, then it is estimated from $X$ with a first order finite difference method.\n",
    "* [SINDyModel](../api/generated/deeptime.sindy.SINDyModel.rst#deeptime.sindy.SINDyModel) represents the learned dynamical system. It can be used to predict derivatives given state variables, simulate forward in time from novel initial conditions, and to score itself against ground truth data.\n",
    "\n",
    "Let's see how these objects work with an example."
   ]
  },
  {
   "cell_type": "markdown",
   "metadata": {},
   "source": [
    "## Example\n",
    "Suppose we have measurements of the position of a particle obeying the following dynamical system at different points in time:\n",
    "\n",
    "$$\n",
    "\t\\frac{d}{dt} \\begin{bmatrix} x \\\\ y \\end{bmatrix}\n",
    "\t= \\begin{bmatrix} -2x \\\\ y \\end{bmatrix}\n",
    "\t= \\begin{bmatrix} -2 & 0 \\\\ 0 & 1 \\end{bmatrix}\n",
    "\t\\begin{bmatrix} x \\\\ y \\end{bmatrix}\n",
    "$$\n",
    "\n",
    "Note that this system of differential equations decouples into two differential equations whose solutions are simply $x(t) = x_0e^{-2t}$ and $y(t) = y_0e^t$, where $x_0 = x(0)$ and $y_0=y(0)$ are the initial conditions.\n",
    "\n",
    "Using the initial conditions $x_0 = 3$ and $y_0 = \\tfrac{1}{2}$, we construct the data matrix $X$."
   ]
  },
  {
   "cell_type": "code",
   "execution_count": 1,
   "metadata": {
    "ExecuteTime": {
     "end_time": "2020-11-07T20:19:42.890481Z",
     "start_time": "2020-11-07T20:19:41.949574Z"
    },
    "execution": {
     "iopub.execute_input": "2020-12-02T13:37:37.231323Z",
     "iopub.status.busy": "2020-12-02T13:37:37.228996Z",
     "iopub.status.idle": "2020-12-02T13:37:38.183460Z",
     "shell.execute_reply": "2020-12-02T13:37:38.182947Z"
    }
   },
   "outputs": [],
   "source": [
    "import numpy as np"
   ]
  },
  {
   "cell_type": "code",
   "execution_count": 2,
   "metadata": {
    "ExecuteTime": {
     "end_time": "2020-11-07T20:19:42.896560Z",
     "start_time": "2020-11-07T20:19:42.892498Z"
    },
    "execution": {
     "iopub.execute_input": "2020-12-02T13:37:38.187212Z",
     "iopub.status.busy": "2020-12-02T13:37:38.186831Z",
     "iopub.status.idle": "2020-12-02T13:37:38.189113Z",
     "shell.execute_reply": "2020-12-02T13:37:38.188696Z"
    }
   },
   "outputs": [],
   "source": [
    "t = np.linspace(0, 1, 100)\n",
    "x = 3 * np.exp(-2 * t)\n",
    "y = 0.5 * np.exp(t)\n",
    "X = np.stack((x, y), axis=-1)  # First column is x, second is y"
   ]
  },
  {
   "cell_type": "markdown",
   "metadata": {},
   "source": [
    "To form a [SINDy](../api/generated/deeptime.sindy.SINDy.rst#deeptime.sindy.SINDy) estimator we can select a feature library and an optimization routine.\n",
    "\n",
    "Let's use polynomials of degree up to three for the candidate library $\\Theta$ and sequentially-thresholded least-squares with a threshold of 0.2 to solve the optimization problem"
   ]
  },
  {
   "cell_type": "code",
   "execution_count": 3,
   "metadata": {
    "ExecuteTime": {
     "end_time": "2020-11-07T20:19:42.907817Z",
     "start_time": "2020-11-07T20:19:42.898790Z"
    },
    "execution": {
     "iopub.execute_input": "2020-12-02T13:37:38.192410Z",
     "iopub.status.busy": "2020-12-02T13:37:38.191921Z",
     "iopub.status.idle": "2020-12-02T13:37:38.193835Z",
     "shell.execute_reply": "2020-12-02T13:37:38.194218Z"
    }
   },
   "outputs": [],
   "source": [
    "from sklearn.preprocessing import PolynomialFeatures\n",
    "from deeptime.sindy import STLSQ\n",
    "\n",
    "library = PolynomialFeatures(degree=3)\n",
    "\n",
    "optimizer = STLSQ(threshold=0.2)"
   ]
  },
  {
   "cell_type": "markdown",
   "metadata": {},
   "source": [
    "Following the `scikit-learn` workflow, we first instantiate a `SINDy` estimator with the desired properties, then fit it to the data in separate step."
   ]
  },
  {
   "cell_type": "code",
   "execution_count": 4,
   "metadata": {
    "ExecuteTime": {
     "end_time": "2020-11-07T20:19:42.926666Z",
     "start_time": "2020-11-07T20:19:42.910433Z"
    },
    "execution": {
     "iopub.execute_input": "2020-12-02T13:37:38.220290Z",
     "iopub.status.busy": "2020-12-02T13:37:38.219787Z",
     "iopub.status.idle": "2020-12-02T13:37:38.232613Z",
     "shell.execute_reply": "2020-12-02T13:37:38.233159Z"
    }
   },
   "outputs": [],
   "source": [
    "from deeptime.sindy import SINDy\n",
    "\n",
    "# Instantiate the estimator\n",
    "estimator = SINDy(\n",
    "    library=library,\n",
    "    optimizer=optimizer,\n",
    "    input_features=[\"x\", \"y\"]  # The feature names are just for printing\n",
    ")\n",
    "\n",
    "# Fit the estimator to data\n",
    "estimator.fit(X, t=t);"
   ]
  },
  {
   "cell_type": "markdown",
   "metadata": {},
   "source": [
    "Once the estimator has been fit, we extract the learned model."
   ]
  },
  {
   "cell_type": "code",
   "execution_count": 5,
   "metadata": {
    "ExecuteTime": {
     "end_time": "2020-11-07T20:19:42.934131Z",
     "start_time": "2020-11-07T20:19:42.928354Z"
    },
    "execution": {
     "iopub.execute_input": "2020-12-02T13:37:38.236795Z",
     "iopub.status.busy": "2020-12-02T13:37:38.236296Z",
     "iopub.status.idle": "2020-12-02T13:37:38.238665Z",
     "shell.execute_reply": "2020-12-02T13:37:38.238090Z"
    }
   },
   "outputs": [],
   "source": [
    "model = estimator.fetch_model();"
   ]
  },
  {
   "cell_type": "markdown",
   "metadata": {},
   "source": [
    "We can inspect the governing equations discovered by SINDy and check whether they seem reasonable with the `print` function."
   ]
  },
  {
   "cell_type": "code",
   "execution_count": 6,
   "metadata": {
    "ExecuteTime": {
     "end_time": "2020-11-07T20:19:42.947193Z",
     "start_time": "2020-11-07T20:19:42.935889Z"
    },
    "execution": {
     "iopub.execute_input": "2020-12-02T13:37:38.242262Z",
     "iopub.status.busy": "2020-12-02T13:37:38.241737Z",
     "iopub.status.idle": "2020-12-02T13:37:38.244176Z",
     "shell.execute_reply": "2020-12-02T13:37:38.244704Z"
    }
   },
   "outputs": [
    {
     "name": "stdout",
     "output_type": "stream",
     "text": [
      "x' = -1.999 x\n",
      "y' = 0.999 y\n"
     ]
    }
   ],
   "source": [
    "model.print()"
   ]
  },
  {
   "cell_type": "markdown",
   "metadata": {},
   "source": [
    "The learned model is very close to the true governing equations!\n",
    "\n",
    "We can use it to evolve new initial conditions forward in time with the [simulate](../api/generated/deeptime.sindy.SINDyModel.rst#deeptime.sindy.SINDyModel.simulate) method."
   ]
  },
  {
   "cell_type": "code",
   "execution_count": 7,
   "metadata": {
    "ExecuteTime": {
     "end_time": "2020-11-07T20:19:42.968203Z",
     "start_time": "2020-11-07T20:19:42.950016Z"
    },
    "execution": {
     "iopub.execute_input": "2020-12-02T13:37:38.257995Z",
     "iopub.status.busy": "2020-12-02T13:37:38.257494Z",
     "iopub.status.idle": "2020-12-02T13:37:38.259040Z",
     "shell.execute_reply": "2020-12-02T13:37:38.259502Z"
    }
   },
   "outputs": [],
   "source": [
    "x0 = 6\n",
    "y0 = -0.1\n",
    "\n",
    "t_test = np.linspace(0, 1, 100)\n",
    "x_test = x0 * np.exp(-2 * t_test)\n",
    "y_test = y0 * np.exp(t_test)\n",
    "\n",
    "sim = model.simulate([x0, y0], t=t_test)"
   ]
  },
  {
   "cell_type": "code",
   "execution_count": 8,
   "metadata": {
    "ExecuteTime": {
     "end_time": "2020-11-07T20:19:43.678787Z",
     "start_time": "2020-11-07T20:19:42.971663Z"
    },
    "execution": {
     "iopub.execute_input": "2020-12-02T13:37:38.263736Z",
     "iopub.status.busy": "2020-12-02T13:37:38.263335Z",
     "iopub.status.idle": "2020-12-02T13:37:38.680858Z",
     "shell.execute_reply": "2020-12-02T13:37:38.680338Z"
    }
   },
   "outputs": [
    {
     "data": {
      "image/png": "[encoded data removed]",
      "text/plain": [
       "<Figure size 360x360 with 1 Axes>"
      ]
     },
     "metadata": {
      "needs_background": "light"
     },
     "output_type": "display_data"
    }
   ],
   "source": [
    "import matplotlib.pyplot as plt\n",
    "\n",
    "fig, ax = plt.subplots(1, 1, figsize=(5, 5))\n",
    "ax.plot(x0, y0, \"ro\", label=\"Initial condition\", alpha=0.6, markersize=8)\n",
    "ax.plot(x_test, y_test, \"b\", label=\"Exact solution\", alpha=0.4, linewidth=4)\n",
    "ax.plot(sim[:, 0], sim[:, 1], \"k--\", label=\"SINDy model\", linewidth=3)\n",
    "ax.set(xlabel=\"x\", ylabel=\"y\")\n",
    "ax.legend();"
   ]
  },
  {
   "cell_type": "markdown",
   "metadata": {},
   "source": [
    "For more fine-grained control over various aspects of SINDy (e.g. different optimizers or feature libraries), the [PySINDy](http://pysindy.readthedocs.org/) package provides Deeptime API-compatible [objects](https://pysindy.readthedocs.io/en/latest/api/pysindy.deeptime.html)."
   ]
  },
  {
   "cell_type": "raw",
   "metadata": {
    "raw_mimetype": "text/restructuredtext"
   },
   "source": [
    ".. rubric:: References\n",
    "\n",
    ".. footbibliography::"
   ]
  }
 ],
 "metadata": {
  "celltoolbar": "Raw Cell Format",
  "kernelspec": {
   "display_name": "Python 3 (ipykernel)",
   "language": "python",
   "name": "python3"
  },
  "language_info": {
   "codemirror_mode": {
    "name": "ipython",
    "version": 3
   },
   "file_extension": ".py",
   "mimetype": "text/x-python",
   "name": "python",
   "nbconvert_exporter": "python",
   "pygments_lexer": "ipython3",
   "version": "3.9.9"
  },
  "toc": {
   "base_numbering": 1,
   "nav_menu": {},
   "number_sections": true,
   "sideBar": true,
   "skip_h1_title": false,
   "title_cell": "Table of Contents",
   "title_sidebar": "Contents",
   "toc_cell": false,
   "toc_position": {},
   "toc_section_display": true,
   "toc_window_display": false
  }
 },
 "nbformat": 4,
 "nbformat_minor": 4
}
