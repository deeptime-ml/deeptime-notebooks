{
 "cells": [
  {
   "cell_type": "markdown",
   "metadata": {},
   "source": [
    "## DMD\n",
    "\n",
    "For people already familiar with the method and interface, the [API docs](../api/generated/deeptime.decomposition.DMD.rst).\n",
    "\n",
    "Here we present the basic ideas behind a family of dynamic mode decomposition (DMD) methods. In particular the original \"standard DMD\" <cite data-footcite=\"schmid2010dynamic\">(Schmid, 2010)</cite>, its variant \"exact DMD\" <cite data-footcite=\"tu2013dynamic\">(Tu, 2013)</cite>. The principle idea is that DMD should be able to characterize / decompose potentially highly nonlinear dynamics by solving linear systems of equations and studying their spectral properties.\n",
    "\n",
    "Considering a sequential set of data vectors $\\{z_1,\\ldots,z_m\\}$ with $z_i\\in\\mathbb{R}^n$ and assuming that \n",
    "\n",
    "$$ z_{k+1} = Az_k $$\n",
    "\n",
    "for some usually unknown matrix $A$, one can define standard DMD as follows (following the presentation of <cite data-footcite=\"tu2013dynamic\">(Tu, 2013)</cite>, originally introduced as DMD in <cite data-footcite=\"schmid2010dynamic\">(Schmid, 2010)</cite> ).\n",
    "\n",
    "1. The data is arranged into matrices $X, Y$ of matching pairs of time-shifted datapoints, i.e., $Y_{i+1} = X_{i}$ for $i \\geq 1$.\n",
    "2. Compute the (optionally truncated) SVD of $X$ to obtain $X = U\\Sigma V^*$.\n",
    "3. Define $\\tilde{A} = U^*YV\\Sigma^{-1}$.\n",
    "4. Compute eigenvalues and eigenvectors $\\tilde A w = \\lambda w$.\n",
    "5. The DMD mode corresponding to the DMD eigenvalue $\\lambda$ is given by $\\hat\\varphi = Uw$.\n",
    "\n",
    "It should be remarked that even if the data-generating dynamics are nonlinear, it is assumed that there exists some linear operator $A$ which approximates these.\n",
    "\n",
    "The notion of \"exact\" DMD <cite data-footcite=\"tu2013dynamic\">(Tu, 2013)</cite> weakens the assumptions and only requires that the data vectors are corresponding pairs of data. The operator $A$ is defined as the solution to the best-approximation of $\\| AX - Y\\|_F$.\n",
    "This leads to exact DMD modes corresponding to eigenvalue $\\lambda$ of the form\n",
    "\n",
    "$$ \\varphi = \\frac{1}{\\lambda}YV\\Sigma^{-1}w. $$"
   ]
  },
  {
   "cell_type": "markdown",
   "metadata": {},
   "source": [
    "Both estimation modes are united within the same estimator in Deeptime:"
   ]
  },
  {
   "cell_type": "code",
   "execution_count": 1,
   "metadata": {
    "execution": {
     "iopub.execute_input": "2020-12-02T13:40:40.500084Z",
     "iopub.status.busy": "2020-12-02T13:40:40.498172Z",
     "iopub.status.idle": "2020-12-02T13:40:41.495100Z",
     "shell.execute_reply": "2020-12-02T13:40:41.494618Z"
    }
   },
   "outputs": [],
   "source": [
    "from deeptime.decomposition import DMD\n",
    "\n",
    "standard_dmd = DMD(mode='standard')\n",
    "exact_dmd = DMD(mode='exact')"
   ]
  },
  {
   "cell_type": "markdown",
   "metadata": {},
   "source": [
    "The standard DMD is sometimes also referred to as projected DMD <cite data-footcite=\"tu2013dynamic\">(Tu, 2013)</cite> since the modes $\\hat\\varphi$ are eigenvectors of $\\mathbb{P}_XA$, where $\\mathbb{P}_X = UU^*$ is the orthogonal projection onto the image of $X$. If data vectors $y_i$ are in the $\\mathrm{span}\\{x_i\\}$, then $\\mathbb{P}_X = \\mathrm{Id}$; projected/standard and exact DMD modes coincide.\n",
    "\n",
    "This can be especially relevant if there are more dimensions than datapoints."
   ]
  },
  {
   "cell_type": "markdown",
   "metadata": {},
   "source": [
    "We demonstrate the methods using a random orthogonal matrix $A$ which serves as out propagator plus some normal distributed noise, i.e.,\n",
    "\n",
    "$$ x_{t+1} = Ax_t + \\mathcal{N}(0, 10^{-4}). $$"
   ]
  },
  {
   "cell_type": "code",
   "execution_count": 2,
   "metadata": {
    "execution": {
     "iopub.execute_input": "2020-12-02T13:40:41.505087Z",
     "iopub.status.busy": "2020-12-02T13:40:41.504640Z",
     "iopub.status.idle": "2020-12-02T13:40:41.510467Z",
     "shell.execute_reply": "2020-12-02T13:40:41.509990Z"
    }
   },
   "outputs": [],
   "source": [
    "import numpy as np\n",
    "\n",
    "state = np.random.RandomState(45)\n",
    "\n",
    "A = np.linalg.qr(state.normal(size=(2, 2)))[0]\n",
    "x0 = state.uniform(-1, 1, size=(A.shape[0],))\n",
    "\n",
    "data = np.empty((500, A.shape[0]))\n",
    "data[0] = x0\n",
    "for t in range(1, len(data)):\n",
    "    data[t] = A @ data[t - 1] + state.normal(scale=1e-4, size=(2,))"
   ]
  },
  {
   "cell_type": "markdown",
   "metadata": {},
   "source": [
    "Visualizing the generated data we can see that it is a jumping process between two wells."
   ]
  },
  {
   "cell_type": "code",
   "execution_count": 3,
   "metadata": {
    "execution": {
     "iopub.execute_input": "2020-12-02T13:40:41.513933Z",
     "iopub.status.busy": "2020-12-02T13:40:41.513407Z",
     "iopub.status.idle": "2020-12-02T13:40:41.947311Z",
     "shell.execute_reply": "2020-12-02T13:40:41.946769Z"
    }
   },
   "outputs": [
    {
     "data": {
      "image/png": "[encoded data removed]",
      "text/plain": [
       "<Figure size 432x288 with 1 Axes>"
      ]
     },
     "metadata": {
      "needs_background": "light"
     },
     "output_type": "display_data"
    }
   ],
   "source": [
    "import matplotlib.pyplot as plt\n",
    "plt.scatter(*data.T);"
   ]
  },
  {
   "cell_type": "markdown",
   "metadata": {},
   "source": [
    "Fitting the models to this dataset reveals that the eigenvalues are identical:"
   ]
  },
  {
   "cell_type": "code",
   "execution_count": 4,
   "metadata": {
    "execution": {
     "iopub.execute_input": "2020-12-02T13:40:41.954406Z",
     "iopub.status.busy": "2020-12-02T13:40:41.953796Z",
     "iopub.status.idle": "2020-12-02T13:40:41.956570Z",
     "shell.execute_reply": "2020-12-02T13:40:41.955988Z"
    }
   },
   "outputs": [],
   "source": [
    "standard_model = standard_dmd.fit((data[:-1], data[1:])).fetch_model()\n",
    "exact_model = exact_dmd.fit((data[:-1], data[1:])).fetch_model()"
   ]
  },
  {
   "cell_type": "code",
   "execution_count": 5,
   "metadata": {
    "execution": {
     "iopub.execute_input": "2020-12-02T13:40:41.960968Z",
     "iopub.status.busy": "2020-12-02T13:40:41.960426Z",
     "iopub.status.idle": "2020-12-02T13:40:41.963284Z",
     "shell.execute_reply": "2020-12-02T13:40:41.962743Z"
    }
   },
   "outputs": [
    {
     "name": "stdout",
     "output_type": "stream",
     "text": [
      "Eigenvalues standard [ 1.00003048+0.j -1.00015445+0.j], exact [ 1.00003048+0.j -1.00015445+0.j]\n"
     ]
    }
   ],
   "source": [
    "print(f\"Eigenvalues standard {standard_model.eigenvalues}, exact {exact_model.eigenvalues}\")"
   ]
  },
  {
   "cell_type": "markdown",
   "metadata": {},
   "source": [
    "We propagate the first ten datapoints using our estimated models:"
   ]
  },
  {
   "cell_type": "code",
   "execution_count": 6,
   "metadata": {
    "execution": {
     "iopub.execute_input": "2020-12-02T13:40:41.972628Z",
     "iopub.status.busy": "2020-12-02T13:40:41.966595Z",
     "iopub.status.idle": "2020-12-02T13:40:41.975087Z",
     "shell.execute_reply": "2020-12-02T13:40:41.974505Z"
    }
   },
   "outputs": [],
   "source": [
    "traj_standard = standard_model.transform(data)\n",
    "traj_exact = exact_model.transform(data)"
   ]
  },
  {
   "cell_type": "markdown",
   "metadata": {},
   "source": [
    "A scatter plot reveals that all data points get mapped to the same two wells and the propagator was approximated almost perfectly."
   ]
  },
  {
   "cell_type": "code",
   "execution_count": 7,
   "metadata": {
    "execution": {
     "iopub.execute_input": "2020-12-02T13:40:41.995272Z",
     "iopub.status.busy": "2020-12-02T13:40:41.994708Z",
     "iopub.status.idle": "2020-12-02T13:40:42.198148Z",
     "shell.execute_reply": "2020-12-02T13:40:42.197182Z"
    }
   },
   "outputs": [
    {
     "data": {
      "image/png": "[encoded data removed]",
      "text/plain": [
       "<Figure size 432x288 with 1 Axes>"
      ]
     },
     "metadata": {
      "needs_background": "light"
     },
     "output_type": "display_data"
    }
   ],
   "source": [
    "plt.scatter(*data.T, alpha=.5, marker='x', label='ground truth')\n",
    "plt.scatter(*np.real(traj_standard)[::5].T, marker='*',alpha=.5, label='standard DMD')\n",
    "plt.scatter(*np.real(traj_exact)[::5].T, alpha=.1, label='exact DMD')\n",
    "plt.legend();"
   ]
  },
  {
   "cell_type": "raw",
   "metadata": {
    "raw_mimetype": "text/restructuredtext"
   },
   "source": [
    ".. rubric:: References\n",
    "\n",
    ".. footbibliography::"
   ]
  }
 ],
 "metadata": {
  "celltoolbar": "Raw Cell Format",
  "kernelspec": {
   "display_name": "Python 3 (ipykernel)",
   "language": "python",
   "name": "python3"
  },
  "language_info": {
   "codemirror_mode": {
    "name": "ipython",
    "version": 3
   },
   "file_extension": ".py",
   "mimetype": "text/x-python",
   "name": "python",
   "nbconvert_exporter": "python",
   "pygments_lexer": "ipython3",
   "version": "3.9.9"
  },
  "toc": {
   "base_numbering": 1,
   "nav_menu": {},
   "number_sections": true,
   "sideBar": true,
   "skip_h1_title": false,
   "title_cell": "Table of Contents",
   "title_sidebar": "Contents",
   "toc_cell": false,
   "toc_position": {},
   "toc_section_display": true,
   "toc_window_display": false
  }
 },
 "nbformat": 4,
 "nbformat_minor": 4
}
