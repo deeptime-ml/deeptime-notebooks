{
 "cells": [
  {
   "cell_type": "markdown",
   "id": "504c2d7f",
   "metadata": {},
   "source": [
    "# TRAM\n",
    "This example shows how the transition-based reweighting analysis method (TRAM) <cite data-footcite=\"wu2016multiensemble\">(Wu et al, 2016)</cite> can be used to estimate a Markov state model of a simple double-well potential.\n",
    "\n",
    "## Introduction\n",
    "\n",
    "In the TRAM problem, we have a system which is governed by some unknown equilibrium distribution, $\\mu(x) = e^{f - u(x)}$, where $u(x)$ is the dimensionless potential function. $f$ is the free energy, which ensures normalization of $\\mu(x)$, and is unknown.\n",
    "\n",
    "We assume that we have sampled our system at $K$ different thermodynamic states, which are related to our reference state through the addition of some bias potential, $b^k(x)$ (at state $k$, $k \\in \\{1, ... K\\}$). This means each thermodynamic state has an equilibrium distribution $\\mu^k(x) = e^{f^k(x) - b^k(x)} \\mu(x)$. Again, the free energy $f^k$ for state $k$ ensures normalization.\n",
    "\n",
    "The shape of the bias potentials depends on the chosen sampling method. In replica exchange for example, it depends on the temperature difference between states. For umbrella sampling, the bias potential is usually a quadratic well around some center coordinate. In the following example we will use umbrella sampling.\n",
    "\n",
    "For each thermodynamic state, samples are _not_ assumed to be taken from the global equilibrium distribution of that state, i.e. from $\\mu^k(x)$. In stead, each thermodynamic state $k$ is governed by a Markov State Model (MSM) consisting of $M$ states. Samples are assumed to be taken from the _local equilibrium_ that governs each markov state $S_i$, $i \\in \\{1, ... M\\}$, given by $\\mu^k_i = e^{f^k_i - b^k(x)} \\mu(x)$.\n",
    "\n",
    "TRAM is thus a combination of a thermodynamic reweighting estimator, that combines data from multiple thermodynamic states, and a MSM, allowing use of time-lagged data. It produces a maximum-likelihood estimate for the underlying Multi Ensemble Markov Model of the biased thermodynamic states.\n",
    "\n",
    "## Application to a double well\n",
    "To apply TRAM to a double well we use the deeptime MarkovStateModel for sampling, and KMeans for clustering the data into the $M$ Markov states. We will then use TRAM to estimate the TRAM model, which holds the transition matrices and free energies from the data. Finally, we use the model to re-obtain the PMF."
   ]
  },
  {
   "cell_type": "code",
   "execution_count": 1,
   "id": "b22f2497",
   "metadata": {},
   "outputs": [],
   "source": [
    "import numpy as np\n",
    "import matplotlib.pyplot as plt\n",
    "\n",
    "from deeptime.data import tmatrix_metropolis1d\n",
    "from deeptime.markov.msm import MarkovStateModel, TRAM, TRAMDataset\n",
    "from deeptime.clustering import KMeans"
   ]
  },
  {
   "cell_type": "markdown",
   "id": "74ac4c8f",
   "metadata": {},
   "source": [
    "Define the potential we will be sampling from. This is a simple double well."
   ]
  },
  {
   "cell_type": "code",
   "execution_count": 2,
   "id": "2fabade2",
   "metadata": {},
   "outputs": [
    {
     "data": {
      "image/png": "[encoded data removed]",
      "text/plain": [
       "<Figure size 432x288 with 1 Axes>"
      ]
     },
     "metadata": {
      "needs_background": "light"
     },
     "output_type": "display_data"
    }
   ],
   "source": [
    "def potential(x):\n",
    "    return (x - 1) ** 4 * (x + 1) ** 4\n",
    "\n",
    "xs = np.linspace(-1.5, 1.5, num=100) # We will sample 100 discrete bins\n",
    "plt.plot(xs, potential(xs));"
   ]
  },
  {
   "cell_type": "markdown",
   "id": "5c8bb85b",
   "metadata": {},
   "source": [
    "We will use umbrella sampling to sample the potential. Define a sampling axis and the umbrella centers. These umbrella centers define our thermodynamic states."
   ]
  },
  {
   "cell_type": "code",
   "execution_count": 3,
   "id": "2c070f24",
   "metadata": {},
   "outputs": [],
   "source": [
    "bias_centers = np.linspace(-1.5, 1.5, 20) # 20 umbrella's\n",
    "\n",
    "# we use a harmonic bias potential\n",
    "def harmonic(x0, x):\n",
    "    return 2 * (x - x0) ** 4"
   ]
  },
  {
   "cell_type": "markdown",
   "id": "97c77830",
   "metadata": {},
   "source": [
    "For each of the bias centers, contruct the bias potential as a sum of the original potential and the harmonic bias."
   ]
  },
  {
   "cell_type": "code",
   "execution_count": 4,
   "id": "8d20aaf0",
   "metadata": {},
   "outputs": [],
   "source": [
    "biased_potentials = []\n",
    "for bias_center in bias_centers:\n",
    "    bias = lambda x, x0=bias_center: harmonic(x0, x) + potential(x)\n",
    "    biased_potentials.append(bias)"
   ]
  },
  {
   "cell_type": "markdown",
   "id": "ebd15f5f",
   "metadata": {},
   "source": [
    "Now we will sample a discrete trajectory for each of the thermodynamic states. We use a deeptime MSM to perform the sampling."
   ]
  },
  {
   "cell_type": "code",
   "execution_count": 5,
   "id": "cc53313b",
   "metadata": {},
   "outputs": [],
   "source": [
    "n_samples = 10000  # trajectory length\n",
    "\n",
    "trajectories = np.zeros((len(bias_centers), n_samples), dtype=np.int32)\n",
    "\n",
    "for i, U in enumerate(biased_potentials):\n",
    "    biased_energies = U(xs)  # get the potential at each of the bins\n",
    "\n",
    "    transition_matrix = tmatrix_metropolis1d(biased_energies)\n",
    "\n",
    "    msm = MarkovStateModel(transition_matrix)\n",
    "    trajectories[i] = msm.simulate(n_steps=n_samples)"
   ]
  },
  {
   "cell_type": "markdown",
   "id": "584a8429",
   "metadata": {},
   "source": [
    "Plot the sampled trajectories and biased potentials:"
   ]
  },
  {
   "cell_type": "code",
   "execution_count": 6,
   "id": "8831eb32",
   "metadata": {},
   "outputs": [
    {
     "data": {
      "image/png": "[encoded data removed]",
      "text/plain": [
       "<Figure size 432x288 with 1 Axes>"
      ]
     },
     "metadata": {
      "needs_background": "light"
     },
     "output_type": "display_data"
    }
   ],
   "source": [
    "plt.hist(xs[trajectories.flatten()], bins=100, density=True, color='C1',\n",
    "         label='Histogram over visited states');"
   ]
  },
  {
   "cell_type": "markdown",
   "id": "35fe092c",
   "metadata": {},
   "source": [
    "Now use the deeptime KMeans module to cluster the data into 2 states (using the knowledge that we are working with a double-well potential). For each sample, the Markov state that sample was in is stored in `dtrajs`."
   ]
  },
  {
   "cell_type": "code",
   "execution_count": 7,
   "id": "e402203f",
   "metadata": {},
   "outputs": [
    {
     "name": "stdout",
     "output_type": "stream",
     "text": [
      "[[24.40327363]\n",
      " [74.93232687]]\n"
     ]
    }
   ],
   "source": [
    "estimator = KMeans(\n",
    "        n_clusters=2,  # place 2 cluster centers\n",
    "        init_strategy='uniform',  # uniform initialization strategy\n",
    "        max_iter=10,\n",
    "        fixed_seed=13,\n",
    "        n_jobs=8\n",
    "    )\n",
    "\n",
    "clustering = estimator.fit_fetch(trajectories.flatten())\n",
    "dtrajs = clustering.transform(trajectories.flatten()).reshape(\n",
    "        (len(trajectories), n_samples))\n",
    "\n",
    "print(clustering.cluster_centers)"
   ]
  },
  {
   "cell_type": "markdown",
   "id": "fcb31c79",
   "metadata": {},
   "source": [
    "The final piece of input we need are the bias matrices, $K$ matrices, one for each thermodynamic state. \n",
    "\n",
    "The bias matrix of thermodynamic state $k$ is of shape $(N_k, K)$, $N_k$ being the number of samples taken at state $k$. `bias_matrices[k, i, l]` is the potential of the $i$-th sample taken at state $k$, **evaluated at** state $l$. \n",
    "\n",
    "In symbols, when $x_i^k$ is the $i$'th sample taken at thermodynamic state $k$, `bias_matrices[k, i, l]` $= b^l(x_i^k)$.\n",
    "\n",
    "This means that for each sample taken __at any given state__, the bias potentials of that sample __in all states__ need to be stored!"
   ]
  },
  {
   "cell_type": "code",
   "execution_count": 8,
   "id": "57200274",
   "metadata": {},
   "outputs": [],
   "source": [
    "# move the range of the trajectories back to the range of xs: (-1.5, 1.5)\n",
    "trajectories_shifted = trajectories / 100 * 3 - 1.5\n",
    "\n",
    "bias_matrices = np.zeros((len(bias_centers), n_samples, len(bias_centers)))\n",
    "for i, traj in enumerate(trajectories_shifted):  # enumerate the states (=trajectories)\n",
    "    for j, bias_function in enumerate(biased_potentials):  # for each term. state...\n",
    "        # ... store the bias potential of all samples as if they were sampled at that thermodynamic state\n",
    "        bias_matrices[i, :, j] = bias_function(traj) - potential(traj) "
   ]
  },
  {
   "cell_type": "markdown",
   "id": "d31289e0",
   "metadata": {},
   "source": [
    "Construct a `TRAMDataset` object from the discrete trajectories and the bias matrices. This object will construct the state and transition count matrices."
   ]
  },
  {
   "cell_type": "code",
   "execution_count": 9,
   "id": "049722d4",
   "metadata": {},
   "outputs": [],
   "source": [
    "dataset = TRAMDataset(dtrajs=dtrajs, bias_matrices=bias_matrices)"
   ]
  },
  {
   "cell_type": "markdown",
   "id": "2d3a8357",
   "metadata": {},
   "source": [
    "We can use the dataset to reduce our data to a chosen submodel, or to the largest connected set according to chosen criteria. One could also choose to reduce the data to a chosen submodel, for example if one wants to compute the connected set by a different method than the ones available in the TRAM module. In this case, we want to reduce our dataset to the largest connected set by the BAR variance connectivity criterium. This may take a while, so we pass a progress bar to show the progress."
   ]
  },
  {
   "cell_type": "code",
   "execution_count": 10,
   "id": "64170f26",
   "metadata": {},
   "outputs": [
    {
     "data": {
      "application/vnd.jupyter.widget-view+json": {
       "model_id": "348aedf720da466eb55f26311d098351",
       "version_major": 2,
       "version_minor": 0
      },
      "text/plain": [
       "  0%|          | 0/40 [00:00<?, ?it/s]"
      ]
     },
     "metadata": {},
     "output_type": "display_data"
    }
   ],
   "source": [
    "from tqdm.notebook import tqdm\n",
    "dataset.restrict_to_largest_connected_set(connectivity='BAR_variance', progress=tqdm)"
   ]
  },
  {
   "cell_type": "markdown",
   "id": "ef201496",
   "metadata": {},
   "source": [
    "Now we have gathered all our input, we can run a TRAM estimate. Because we set maxiter to 100, this might give us a warning that TRAM did not converge (100 iterations is enough for demonstration purposes). The model we obtain contains the data from the connected set."
   ]
  },
  {
   "cell_type": "code",
   "execution_count": 11,
   "id": "597f8ea7",
   "metadata": {},
   "outputs": [
    {
     "data": {
      "application/vnd.jupyter.widget-view+json": {
       "model_id": "27a1251f19f842e78ae8a1471bd0318b",
       "version_major": 2,
       "version_minor": 0
      },
      "text/plain": [
       "  0%|          | 0/100 [00:00<?, ?it/s]"
      ]
     },
     "metadata": {},
     "output_type": "display_data"
    },
    {
     "name": "stderr",
     "output_type": "stream",
     "text": [
      "/home/mho/Development/deeptime/deeptime/markov/msm/tram/_tram.py:203: ConvergenceWarning: TRAM did not converge after 100 iteration(s). Last increment: 2.2557271121215194e-05\n",
      "  warnings.warn(\n"
     ]
    }
   ],
   "source": [
    "tram = TRAM(lagtime=50, maxiter=100, progress=tqdm)\n",
    "model = tram.fit_fetch((dtrajs, bias_matrices))"
   ]
  },
  {
   "cell_type": "markdown",
   "id": "903cf917",
   "metadata": {},
   "source": [
    "We can plot the `biased_conf_energies` in a contour plot to see what they look like."
   ]
  },
  {
   "cell_type": "code",
   "execution_count": 12,
   "id": "9ca4f380",
   "metadata": {},
   "outputs": [
    {
     "data": {
      "image/png": "[encoded data removed]",
      "text/plain": [
       "<Figure size 252x216 with 2 Axes>"
      ]
     },
     "metadata": {
      "needs_background": "light"
     },
     "output_type": "display_data"
    }
   ],
   "source": [
    "fig, (ax1) = plt.subplots(1, figsize=(3.5, 3))\n",
    "im = ax1.contourf(model._biased_conf_energies, levels=50, cmap='jet')\n",
    "plt.colorbar(im);"
   ]
  },
  {
   "cell_type": "markdown",
   "id": "8fbb607c",
   "metadata": {},
   "source": [
    "## Recovering the PMF\n",
    "\n",
    "Now we want to recover the potential function (PMF). To do this, we define a number of bins (in this case 25) that we want to calculate the unbiased PMF over. We discretize all samples into these 25 bins, and use the model to calculate the PMF over the bins."
   ]
  },
  {
   "cell_type": "code",
   "execution_count": 13,
   "id": "eccbf4e6",
   "metadata": {},
   "outputs": [
    {
     "data": {
      "image/png": "[encoded data removed]",
      "text/plain": [
       "<Figure size 432x288 with 1 Axes>"
      ]
     },
     "metadata": {
      "needs_background": "light"
     },
     "output_type": "display_data"
    }
   ],
   "source": [
    "n_bins = 25\n",
    "bins = np.linspace(-1.5, 1.5, n_bins)\n",
    "\n",
    "# the bin number for each sample. Samples are binned into 25 bins\n",
    "bin_numbers = np.floor(trajectories/(100/n_bins)).astype(np.int32)\n",
    "\n",
    "# pass samples to the model with their corresponding bin numbers\n",
    "pmf = model.compute_PMF(dtrajs, bias_matrices, bin_numbers)\n",
    "plt.plot(bins, pmf)\n",
    "\n",
    "# compare with the original distribution, shifted so that the minimum lies at zero.\n",
    "plt.plot(bins, potential(bins) - potential(bins).min(), 'k--');"
   ]
  },
  {
   "cell_type": "raw",
   "id": "3a4872e3",
   "metadata": {
    "raw_mimetype": "text/restructuredtext"
   },
   "source": [
    ".. rubric:: References\n",
    "\n",
    ".. footbibliography::"
   ]
  }
 ],
 "metadata": {
  "celltoolbar": "Raw Cell Format",
  "kernelspec": {
   "display_name": "Python 3 (ipykernel)",
   "language": "python",
   "name": "python3"
  },
  "language_info": {
   "codemirror_mode": {
    "name": "ipython",
    "version": 3
   },
   "file_extension": ".py",
   "mimetype": "text/x-python",
   "name": "python",
   "nbconvert_exporter": "python",
   "pygments_lexer": "ipython3",
   "version": "3.9.9"
  }
 },
 "nbformat": 4,
 "nbformat_minor": 5
}
