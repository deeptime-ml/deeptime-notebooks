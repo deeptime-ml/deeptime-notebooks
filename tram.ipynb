{
 "cells": [
  {
   "cell_type": "markdown",
   "id": "504c2d7f",
   "metadata": {},
   "source": [
    "# TRAM\n",
    "This example shows how the transition-based reweighting analysis method (TRAM) <cite data-footcite=\"wu2016multiensemble\">(Wu et al, 2016)</cite> can be used to estimate a Markov state model of a simple double-well potential.\n",
    "\n",
    "## Introduction\n",
    "\n",
    "In the TRAM problem, we have a system which is governed by some unknown equilibrium distribution, $\\mu(x) = e^{f - u(x)}$, where $u(x)$ is the dimensionless potential function. $f$ is the free energy, which ensures normalization of $\\mu(x)$, and is unknown.\n",
    "\n",
    "We assume that we have sampled our system at $K$ different thermodynamic states, which are related to our reference state through the addition of some bias potential, $b^k(x)$ (at state $k$, $k \\in \\{1, ... K\\}$). This means each thermodynamic state has an equilibrium distribution $\\mu^k(x) = e^{f^k(x) - b^k(x)} \\mu(x)$. Again, the free energy $f^k$ for state $k$ ensures normalization.\n",
    "\n",
    "The shape of the bias potentials depends on the chosen sampling method. In replica exchange for example, it depends on the temperature difference between states. For umbrella sampling, the bias potential is usually a quadratic well around some center coordinate. In the following example we will use umbrella sampling.\n",
    "\n",
    "For each thermodynamic state, samples are _not_ assumed to be taken from the global equilibrium distribution of that state, i.e. from $\\mu^k(x)$. In stead, each thermodynamic state $k$ is governed by a Markov State Model (MSM) consisting of $M$ states. Samples are assumed to be taken from the _local equilibrium_ that governs each markov state $S_i$, $i \\in \\{1, ... M\\}$, given by $\\mu^k_i = e^{f^k_i - b^k(x)} \\mu(x)$.\n",
    "\n",
    "TRAM is thus a combination of a thermodynamic reweighting estimator, that combines data from multiple thermodynamic states, and a MSM, allowing use of time-lagged data. It produces a maximum-likelihood estimate for the underlying Multi Ensemble Markov Model of the biased thermodynamic states.\n",
    "\n",
    "## Application to a double well\n",
    "To apply TRAM to a double well we use the deeptime MarkovStateModel for sampling, and KMeans for clustering the data into the $M$ Markov states. We will then use TRAM to estimate the TRAM model, which holds the transition matrices and free energies from the data. Finally, we use the model to re-obtain the PMF."
   ]
  },
  {
   "cell_type": "code",
   "execution_count": 2,
   "id": "b22f2497",
   "metadata": {},
   "outputs": [],
   "source": [
    "import numpy as np\n",
    "import matplotlib.pyplot as plt\n",
    "\n",
    "from deeptime.data import tmatrix_metropolis1d\n",
    "from deeptime.markov.msm import MarkovStateModel, TRAM, TRAMDataset\n",
    "from deeptime.clustering import KMeans"
   ]
  },
  {
   "cell_type": "markdown",
   "id": "74ac4c8f",
   "metadata": {},
   "source": [
    "Define the potential we will be sampling from. This is a simple double well."
   ]
  },
  {
   "cell_type": "code",
   "execution_count": 3,
   "id": "2fabade2",
   "metadata": {},
   "outputs": [
    {
     "data": {
      "image/png": "[encoded data removed]",
      "text/plain": [
       "<Figure size 432x288 with 1 Axes>"
      ]
     },
     "metadata": {
      "needs_background": "light"
     },
     "output_type": "display_data"
    }
   ],
   "source": [
    "def potential(x):\n",
    "    return (x - 1) ** 4 * (x + 1) ** 4\n",
    "\n",
    "xs = np.linspace(-1.5, 1.5, num=100) # We will sample 100 discrete bins\n",
    "plt.plot(xs, potential(xs));"
   ]
  },
  {
   "cell_type": "markdown",
   "id": "5c8bb85b",
   "metadata": {},
   "source": [
    "We will use umbrella sampling to sample the potential. Define a sampling axis and the umbrella centers. These umbrella centers define our thermodynamic states."
   ]
  },
  {
   "cell_type": "code",
   "execution_count": 4,
   "id": "2c070f24",
   "metadata": {},
   "outputs": [],
   "source": [
    "bias_centers = np.linspace(-1.5, 1.5, 20) # 20 umbrella's\n",
    "\n",
    "# we use a harmonic bias potential\n",
    "def harmonic(x0, x):\n",
    "    return 2 * (x - x0) ** 4"
   ]
  },
  {
   "cell_type": "markdown",
   "id": "97c77830",
   "metadata": {},
   "source": [
    "For each of the bias centers, contruct the bias potential as a sum of the original potential and the harmonic bias."
   ]
  },
  {
   "cell_type": "code",
   "execution_count": 5,
   "id": "8d20aaf0",
   "metadata": {},
   "outputs": [],
   "source": [
    "biased_potentials = []\n",
    "for bias_center in bias_centers:\n",
    "    bias = lambda x, x0=bias_center: harmonic(x0, x) + potential(x)\n",
    "    biased_potentials.append(bias)"
   ]
  },
  {
   "cell_type": "markdown",
   "id": "ebd15f5f",
   "metadata": {},
   "source": [
    "Now we will sample a discrete trajectory for each of the thermodynamic states. We use a deeptime MSM to perform the sampling."
   ]
  },
  {
   "cell_type": "code",
   "execution_count": 6,
   "id": "cc53313b",
   "metadata": {},
   "outputs": [],
   "source": [
    "n_samples = 10000  # trajectory length\n",
    "\n",
    "trajectories = np.zeros((len(bias_centers), n_samples), dtype=np.int32)\n",
    "\n",
    "for i, U in enumerate(biased_potentials):\n",
    "    biased_energies = U(xs)  # get the potential at each of the bins\n",
    "\n",
    "    transition_matrix = tmatrix_metropolis1d(biased_energies)\n",
    "\n",
    "    msm = MarkovStateModel(transition_matrix)\n",
    "    trajectories[i] = msm.simulate(n_steps=n_samples)"
   ]
  },
  {
   "cell_type": "markdown",
   "id": "584a8429",
   "metadata": {},
   "source": [
    "Plot the sampled trajectories and biased potentials:"
   ]
  },
  {
   "cell_type": "code",
   "execution_count": 7,
   "id": "8831eb32",
   "metadata": {},
   "outputs": [
    {
     "data": {
      "image/png": "[encoded data removed]",
      "text/plain": [
       "<Figure size 432x288 with 1 Axes>"
      ]
     },
     "metadata": {
      "needs_background": "light"
     },
     "output_type": "display_data"
    }
   ],
   "source": [
    "plt.hist(xs[trajectories.flatten()], bins=100, density=True, color='C1',\n",
    "         label='Histogram over visited states');"
   ]
  },
  {
   "cell_type": "markdown",
   "id": "35fe092c",
   "metadata": {},
   "source": [
    "Now use the deeptime KMeans module to cluster the data into 2 states (using the knowledge that we are working with a double-well potential). For each sample, the Markov state that sample was in is stored in `dtrajs`."
   ]
  },
  {
   "cell_type": "code",
   "execution_count": 8,
   "id": "e402203f",
   "metadata": {},
   "outputs": [
    {
     "name": "stdout",
     "output_type": "stream",
     "text": [
      "[[75.06651925]\n",
      " [23.44896068]]\n"
     ]
    }
   ],
   "source": [
    "estimator = KMeans(\n",
    "        n_clusters=2,  # place 2 cluster centers\n",
    "        init_strategy='uniform',  # uniform initialization strategy\n",
    "        max_iter=10,\n",
    "        fixed_seed=13,\n",
    "        n_jobs=8\n",
    "    )\n",
    "\n",
    "clustering = estimator.fit_fetch(trajectories.flatten())\n",
    "dtrajs = clustering.transform(trajectories.flatten()).reshape(\n",
    "        (len(trajectories), n_samples))\n",
    "\n",
    "print(clustering.cluster_centers)"
   ]
  },
  {
   "cell_type": "markdown",
   "id": "fcb31c79",
   "metadata": {},
   "source": [
    "The final piece of input we need are the bias matrices, $K$ matrices, one for each thermodynamic state. \n",
    "\n",
    "The bias matrix of thermodynamic state $k$ is of shape $(N_k, K)$, $N_k$ being the number of samples taken at state $k$. `bias_matrices[k, i, l]` is the potential of the $i$-th sample taken at state $k$, **evaluated at** state $l$. \n",
    "\n",
    "In symbols, when $x_i^k$ is the $i$'th sample taken at thermodynamic state $k$, `bias_matrices[k, i, l]` $= b^l(x_i^k)$.\n",
    "\n",
    "This means that for each sample taken __at any given state__, the bias potentials of that sample __in all states__ need to be stored!"
   ]
  },
  {
   "cell_type": "code",
   "execution_count": 9,
   "id": "57200274",
   "metadata": {},
   "outputs": [],
   "source": [
    "# move the range of the trajectories back to the range of xs: (-1.5, 1.5)\n",
    "trajectories_shifted = trajectories / 100 * 3 - 1.5\n",
    "\n",
    "bias_matrices = np.zeros((len(bias_centers), n_samples, len(bias_centers)))\n",
    "for i, traj in enumerate(trajectories_shifted):  # enumerate the states (=trajectories)\n",
    "    for j, bias_function in enumerate(biased_potentials):  # for each term. state...\n",
    "        # ... store the bias potential of all samples as if they were sampled at that thermodynamic state\n",
    "        bias_matrices[i, :, j] = bias_function(traj) - potential(traj) "
   ]
  },
  {
   "cell_type": "markdown",
   "id": "d31289e0",
   "metadata": {},
   "source": [
    "Construct a `TRAMDataset` object from the discrete trajectories and the bias matrices. This object will construct the state and transition count matrices."
   ]
  },
  {
   "cell_type": "code",
   "execution_count": 14,
   "id": "049722d4",
   "metadata": {},
   "outputs": [
    {
     "data": {
      "text/plain": [
       "(20, 10000)"
      ]
     },
     "execution_count": 14,
     "metadata": {},
     "output_type": "execute_result"
    }
   ],
   "source": [
    "dataset = TRAMDataset(dtrajs=dtrajs, bias_matrices=bias_matrices)\n",
    "bias_matrices.shape\n",
    "dtrajs.shape"
   ]
  },
  {
   "cell_type": "markdown",
   "id": "2d3a8357",
   "metadata": {},
   "source": [
    "We can use the dataset to reduce our data to a chosen submodel, or to the largest connected set according to chosen criteria. One could also choose to reduce the data to a chosen submodel, for example if one wants to compute the connected set by a different method than the ones available in the TRAM module. In this case, we want to reduce our dataset to the largest connected set by the BAR variance connectivity criterium. This may take a while, so we pass a progress bar to show the progress."
   ]
  },
  {
   "cell_type": "code",
   "execution_count": 18,
   "id": "64170f26",
   "metadata": {},
   "outputs": [
    {
     "data": {
      "application/vnd.jupyter.widget-view+json": {
       "model_id": "8b6a7bb4210f42fc927c27cba1d2c78d",
       "version_major": 2,
       "version_minor": 0
      },
      "text/plain": [
       "  0%|          | 0/40 [00:00<?, ?it/s]"
      ]
     },
     "metadata": {},
     "output_type": "display_data"
    },
    {
     "data": {
      "text/plain": [
       "[array([1, 1, 1, ..., 1, 1, 1]),\n",
       " array([1, 1, 1, ..., 1, 1, 1]),\n",
       " array([1, 1, 1, ..., 1, 1, 1]),\n",
       " array([1, 1, 1, ..., 1, 1, 1]),\n",
       " array([1, 1, 1, ..., 1, 1, 1]),\n",
       " array([1, 1, 1, ..., 1, 1, 1]),\n",
       " array([1, 1, 1, ..., 1, 1, 1]),\n",
       " array([0, 0, 0, ..., 1, 1, 1]),\n",
       " array([1, 1, 1, ..., 1, 1, 1]),\n",
       " array([0, 0, 0, ..., 1, 1, 1]),\n",
       " array([1, 1, 1, ..., 0, 0, 0]),\n",
       " array([1, 1, 1, ..., 1, 1, 1]),\n",
       " array([0, 0, 0, ..., 0, 0, 0]),\n",
       " array([0, 0, 0, ..., 0, 0, 0]),\n",
       " array([0, 0, 0, ..., 0, 0, 0]),\n",
       " array([0, 0, 0, ..., 0, 0, 0]),\n",
       " array([0, 0, 0, ..., 0, 0, 0]),\n",
       " array([0, 0, 0, ..., 0, 0, 0]),\n",
       " array([0, 0, 0, ..., 0, 0, 0]),\n",
       " array([0, 0, 0, ..., 0, 0, 0])]"
      ]
     },
     "execution_count": 18,
     "metadata": {},
     "output_type": "execute_result"
    }
   ],
   "source": [
    "from tqdm.notebook import tqdm\n",
    "dataset.restrict_to_largest_connected_set(connectivity='BAR_variance', progress=tqdm)\n",
    "dataset.dtrajs"
   ]
  },
  {
   "cell_type": "markdown",
   "id": "ef201496",
   "metadata": {},
   "source": [
    "Now we have gathered all our input, we can run a TRAM estimate. Because we set maxiter to 100, this might give us a warning that TRAM did not converge (100 iterations is enough for demonstration purposes). The model we obtain contains the data from the connected set."
   ]
  },
  {
   "cell_type": "code",
   "execution_count": 15,
   "id": "597f8ea7",
   "metadata": {},
   "outputs": [
    {
     "data": {
      "application/vnd.jupyter.widget-view+json": {
       "model_id": "2f7033ec8aaf444f8390f49afbca2409",
       "version_major": 2,
       "version_minor": 0
      },
      "text/plain": [
       "  0%|          | 0/100 [00:00<?, ?it/s]"
      ]
     },
     "metadata": {},
     "output_type": "display_data"
    },
    {
     "ename": "ValueError",
     "evalue": "Got 2 transition matrices but 2 stationary distributions and 20 count models. For a one-to-one correspondence, these must match.",
     "output_type": "error",
     "traceback": [
      "\u001b[1;31m---------------------------------------------------------------------------\u001b[0m",
      "\u001b[1;31mValueError\u001b[0m                                Traceback (most recent call last)",
      "\u001b[1;32m~\\AppData\\Local\\Temp/ipykernel_15956/1149282083.py\u001b[0m in \u001b[0;36m<module>\u001b[1;34m\u001b[0m\n\u001b[0;32m      1\u001b[0m \u001b[0mtram\u001b[0m \u001b[1;33m=\u001b[0m \u001b[0mTRAM\u001b[0m\u001b[1;33m(\u001b[0m\u001b[0mlagtime\u001b[0m\u001b[1;33m=\u001b[0m\u001b[1;36m50\u001b[0m\u001b[1;33m,\u001b[0m \u001b[0mmaxiter\u001b[0m\u001b[1;33m=\u001b[0m\u001b[1;36m100\u001b[0m\u001b[1;33m,\u001b[0m \u001b[0mprogress\u001b[0m\u001b[1;33m=\u001b[0m\u001b[0mtqdm\u001b[0m\u001b[1;33m,\u001b[0m \u001b[0mcallback_interval\u001b[0m\u001b[1;33m=\u001b[0m\u001b[1;36m3\u001b[0m\u001b[1;33m,\u001b[0m \u001b[0minit_strategy\u001b[0m\u001b[1;33m=\u001b[0m\u001b[1;32mNone\u001b[0m\u001b[1;33m)\u001b[0m\u001b[1;33m\u001b[0m\u001b[1;33m\u001b[0m\u001b[0m\n\u001b[1;32m----> 2\u001b[1;33m \u001b[0mmodel\u001b[0m \u001b[1;33m=\u001b[0m \u001b[0mtram\u001b[0m\u001b[1;33m.\u001b[0m\u001b[0mfit_fetch\u001b[0m\u001b[1;33m(\u001b[0m\u001b[1;33m(\u001b[0m\u001b[0mdtrajs\u001b[0m\u001b[1;33m,\u001b[0m \u001b[0mbias_matrices\u001b[0m\u001b[1;33m)\u001b[0m\u001b[1;33m)\u001b[0m\u001b[1;33m\u001b[0m\u001b[1;33m\u001b[0m\u001b[0m\n\u001b[0m",
      "\u001b[1;32m~\\miniconda3\\envs\\deeptime\\lib\\site-packages\\deeptime-0.4.0+11.ga5e488f-py3.9-win-amd64.egg\\deeptime\\base.py\u001b[0m in \u001b[0;36mfit_fetch\u001b[1;34m(self, data, **kwargs)\u001b[0m\n\u001b[0;32m    304\u001b[0m             \u001b[0mThe\u001b[0m \u001b[0mestimated\u001b[0m \u001b[0mmodel\u001b[0m\u001b[1;33m.\u001b[0m\u001b[1;33m\u001b[0m\u001b[1;33m\u001b[0m\u001b[0m\n\u001b[0;32m    305\u001b[0m         \"\"\"\n\u001b[1;32m--> 306\u001b[1;33m         \u001b[0mself\u001b[0m\u001b[1;33m.\u001b[0m\u001b[0mfit\u001b[0m\u001b[1;33m(\u001b[0m\u001b[0mdata\u001b[0m\u001b[1;33m,\u001b[0m \u001b[1;33m**\u001b[0m\u001b[0mkwargs\u001b[0m\u001b[1;33m)\u001b[0m\u001b[1;33m\u001b[0m\u001b[1;33m\u001b[0m\u001b[0m\n\u001b[0m\u001b[0;32m    307\u001b[0m         \u001b[1;32mreturn\u001b[0m \u001b[0mself\u001b[0m\u001b[1;33m.\u001b[0m\u001b[0mfetch_model\u001b[0m\u001b[1;33m(\u001b[0m\u001b[1;33m)\u001b[0m\u001b[1;33m\u001b[0m\u001b[1;33m\u001b[0m\u001b[0m\n\u001b[0;32m    308\u001b[0m \u001b[1;33m\u001b[0m\u001b[0m\n",
      "\u001b[1;32m~\\miniconda3\\envs\\deeptime\\lib\\site-packages\\deeptime-0.4.0+11.ga5e488f-py3.9-win-amd64.egg\\deeptime\\base.py\u001b[0m in \u001b[0;36m__call__\u001b[1;34m(self, *args, **kwargs)\u001b[0m\n\u001b[0;32m    414\u001b[0m         \u001b[1;31m# here we invoke the immutable setting context manager.\u001b[0m\u001b[1;33m\u001b[0m\u001b[1;33m\u001b[0m\u001b[0m\n\u001b[0;32m    415\u001b[0m         \u001b[1;32mwith\u001b[0m \u001b[0mself\u001b[0m\u001b[1;33m:\u001b[0m\u001b[1;33m\u001b[0m\u001b[1;33m\u001b[0m\u001b[0m\n\u001b[1;32m--> 416\u001b[1;33m             \u001b[1;32mreturn\u001b[0m \u001b[0mself\u001b[0m\u001b[1;33m.\u001b[0m\u001b[0mfit_method\u001b[0m\u001b[1;33m(\u001b[0m\u001b[1;33m*\u001b[0m\u001b[0margs\u001b[0m\u001b[1;33m,\u001b[0m \u001b[1;33m**\u001b[0m\u001b[0mkwargs\u001b[0m\u001b[1;33m)\u001b[0m\u001b[1;33m\u001b[0m\u001b[1;33m\u001b[0m\u001b[0m\n\u001b[0m\u001b[0;32m    417\u001b[0m \u001b[1;33m\u001b[0m\u001b[0m\n\u001b[0;32m    418\u001b[0m \u001b[1;33m\u001b[0m\u001b[0m\n",
      "\u001b[1;32m~\\miniconda3\\envs\\deeptime\\lib\\site-packages\\deeptime-0.4.0+11.ga5e488f-py3.9-win-amd64.egg\\deeptime\\markov\\msm\\tram\\_tram.py\u001b[0m in \u001b[0;36mfit\u001b[1;34m(self, data, model, *args, **kw)\u001b[0m\n\u001b[0;32m    206\u001b[0m \u001b[1;33m\u001b[0m\u001b[0m\n\u001b[0;32m    207\u001b[0m         \u001b[0mself\u001b[0m\u001b[1;33m.\u001b[0m\u001b[0m_run_estimation\u001b[0m\u001b[1;33m(\u001b[0m\u001b[0mdataset\u001b[0m\u001b[1;33m.\u001b[0m\u001b[0mtram_input\u001b[0m\u001b[1;33m)\u001b[0m\u001b[1;33m\u001b[0m\u001b[1;33m\u001b[0m\u001b[0m\n\u001b[1;32m--> 208\u001b[1;33m         self._model = TRAMModel(count_models=dataset.count_models,\n\u001b[0m\u001b[0;32m    209\u001b[0m                                 \u001b[0mtransition_matrices\u001b[0m\u001b[1;33m=\u001b[0m\u001b[0mself\u001b[0m\u001b[1;33m.\u001b[0m\u001b[0m_tram_estimator\u001b[0m\u001b[1;33m.\u001b[0m\u001b[0mtransition_matrices\u001b[0m\u001b[1;33m,\u001b[0m\u001b[1;33m\u001b[0m\u001b[1;33m\u001b[0m\u001b[0m\n\u001b[0;32m    210\u001b[0m                                 \u001b[0mbiased_conf_energies\u001b[0m\u001b[1;33m=\u001b[0m\u001b[0mself\u001b[0m\u001b[1;33m.\u001b[0m\u001b[0m_tram_estimator\u001b[0m\u001b[1;33m.\u001b[0m\u001b[0mbiased_conf_energies\u001b[0m\u001b[1;33m,\u001b[0m\u001b[1;33m\u001b[0m\u001b[1;33m\u001b[0m\u001b[0m\n",
      "\u001b[1;32m~\\miniconda3\\envs\\deeptime\\lib\\site-packages\\deeptime-0.4.0+11.ga5e488f-py3.9-win-amd64.egg\\deeptime\\markov\\msm\\tram\\_tram_model.py\u001b[0m in \u001b[0;36m__init__\u001b[1;34m(self, count_models, transition_matrices, biased_conf_energies, lagrangian_mult_log, modified_state_counts_log, therm_state_energies, markov_state_energies)\u001b[0m\n\u001b[0;32m     71\u001b[0m         \u001b[0mself\u001b[0m\u001b[1;33m.\u001b[0m\u001b[0m_count_models\u001b[0m \u001b[1;33m=\u001b[0m \u001b[0mcount_models\u001b[0m\u001b[1;33m\u001b[0m\u001b[1;33m\u001b[0m\u001b[0m\n\u001b[0;32m     72\u001b[0m \u001b[1;33m\u001b[0m\u001b[0m\n\u001b[1;32m---> 73\u001b[1;33m         self._msm_collection = self._construct_msm_collection(\n\u001b[0m\u001b[0;32m     74\u001b[0m             count_models, transition_matrices)\n\u001b[0;32m     75\u001b[0m \u001b[1;33m\u001b[0m\u001b[0m\n",
      "\u001b[1;32m~\\miniconda3\\envs\\deeptime\\lib\\site-packages\\deeptime-0.4.0+11.ga5e488f-py3.9-win-amd64.egg\\deeptime\\markov\\msm\\tram\\_tram_model.py\u001b[0m in \u001b[0;36m_construct_msm_collection\u001b[1;34m(self, count_models, transition_matrices)\u001b[0m\n\u001b[0;32m    307\u001b[0m             \u001b[0mstationary_distributions\u001b[0m\u001b[1;33m.\u001b[0m\u001b[0mappend\u001b[0m\u001b[1;33m(\u001b[0m\u001b[0mpi\u001b[0m\u001b[1;33m)\u001b[0m\u001b[1;33m\u001b[0m\u001b[1;33m\u001b[0m\u001b[0m\n\u001b[0;32m    308\u001b[0m \u001b[1;33m\u001b[0m\u001b[0m\n\u001b[1;32m--> 309\u001b[1;33m         return MarkovStateModelCollection(transition_matrices_connected, stationary_distributions,\n\u001b[0m\u001b[0;32m    310\u001b[0m                                           \u001b[0mreversible\u001b[0m\u001b[1;33m=\u001b[0m\u001b[1;32mTrue\u001b[0m\u001b[1;33m,\u001b[0m \u001b[0mcount_models\u001b[0m\u001b[1;33m=\u001b[0m\u001b[0mcount_models\u001b[0m\u001b[1;33m,\u001b[0m\u001b[1;33m\u001b[0m\u001b[1;33m\u001b[0m\u001b[0m\n\u001b[0;32m    311\u001b[0m                                           transition_matrix_tolerance=1e-8)\n",
      "\u001b[1;32m~\\miniconda3\\envs\\deeptime\\lib\\site-packages\\deeptime-0.4.0+11.ga5e488f-py3.9-win-amd64.egg\\deeptime\\markov\\msm\\_markov_state_model.py\u001b[0m in \u001b[0;36m__init__\u001b[1;34m(self, transition_matrices, stationary_distributions, reversible, count_models, transition_matrix_tolerance)\u001b[0m\n\u001b[0;32m   1317\u001b[0m             \u001b[1;32mraise\u001b[0m \u001b[0mValueError\u001b[0m\u001b[1;33m(\u001b[0m\u001b[1;34m\"Needs at least one transition matrix!\"\u001b[0m\u001b[1;33m)\u001b[0m\u001b[1;33m\u001b[0m\u001b[1;33m\u001b[0m\u001b[0m\n\u001b[0;32m   1318\u001b[0m         \u001b[1;32mif\u001b[0m \u001b[0mlen\u001b[0m\u001b[1;33m(\u001b[0m\u001b[0mstationary_distributions\u001b[0m\u001b[1;33m)\u001b[0m \u001b[1;33m!=\u001b[0m \u001b[0mn\u001b[0m \u001b[1;32mor\u001b[0m \u001b[0mlen\u001b[0m\u001b[1;33m(\u001b[0m\u001b[0mcount_models\u001b[0m\u001b[1;33m)\u001b[0m \u001b[1;33m!=\u001b[0m \u001b[0mn\u001b[0m\u001b[1;33m:\u001b[0m\u001b[1;33m\u001b[0m\u001b[1;33m\u001b[0m\u001b[0m\n\u001b[1;32m-> 1319\u001b[1;33m             raise ValueError(f\"Got {n} transition matrices but {len(stationary_distributions)} \"\n\u001b[0m\u001b[0;32m   1320\u001b[0m                              \u001b[1;34mf\"stationary distributions and {len(count_models)} count models. For a one-to-one \"\u001b[0m\u001b[1;33m\u001b[0m\u001b[1;33m\u001b[0m\u001b[0m\n\u001b[0;32m   1321\u001b[0m                              f\"correspondence, these must match.\")\n",
      "\u001b[1;31mValueError\u001b[0m: Got 2 transition matrices but 2 stationary distributions and 20 count models. For a one-to-one correspondence, these must match."
     ]
    }
   ],
   "source": [
    "tram = TRAM(lagtime=50, maxiter=100, progress=tqdm, callback_interval=3, init_strategy=None)\n",
    "model = tram.fit_fetch((dtrajs, bias_matrices))"
   ]
  },
  {
   "cell_type": "markdown",
   "id": "903cf917",
   "metadata": {},
   "source": [
    "We can plot the `biased_conf_energies` in a contour plot to see what they look like."
   ]
  },
  {
   "cell_type": "code",
   "execution_count": 25,
   "id": "9ca4f380",
   "metadata": {},
   "outputs": [
    {
     "data": {
      "image/png": "[encoded data removed]",
      "text/plain": [
       "<Figure size 252x216 with 2 Axes>"
      ]
     },
     "metadata": {
      "needs_background": "light"
     },
     "output_type": "display_data"
    }
   ],
   "source": [
    "fig, (ax1) = plt.subplots(1, figsize=(3.5, 3))\n",
    "im = ax1.contourf(model._biased_conf_energies, levels=50, cmap='jet')\n",
    "plt.colorbar(im);"
   ]
  },
  {
   "cell_type": "markdown",
   "id": "8fbb607c",
   "metadata": {},
   "source": [
    "## Recovering the PMF\n",
    "\n",
    "Now we want to recover the potential function (PMF). To do this, we define a number of bins (in this case 25) that we want to calculate the unbiased PMF over. We discretize all samples into these 25 bins, and use the model to calculate the PMF over the bins."
   ]
  },
  {
   "cell_type": "code",
   "execution_count": 26,
   "id": "eccbf4e6",
   "metadata": {},
   "outputs": [
    {
     "data": {
      "image/png": "[encoded data removed]",
      "text/plain": [
       "<Figure size 432x288 with 1 Axes>"
      ]
     },
     "metadata": {
      "needs_background": "light"
     },
     "output_type": "display_data"
    }
   ],
   "source": [
    "n_bins = 25\n",
    "bins = np.linspace(-1.5, 1.5, n_bins)\n",
    "\n",
    "# the bin number for each sample. Samples are binned into 25 bins\n",
    "bin_numbers = np.floor(trajectories/(100/n_bins)).astype(np.int32)\n",
    "\n",
    "# pass samples to the model with their corresponding bin numbers\n",
    "pmf = model.compute_PMF(dtrajs, bias_matrices, bin_numbers)\n",
    "plt.plot(bins, pmf)\n",
    "\n",
    "# compare with the original distribution, shifted so that the minimum lies at zero.\n",
    "plt.plot(bins, potential(bins) - potential(bins).min(), 'k--');"
   ]
  },
  {
   "cell_type": "raw",
   "id": "3a4872e3",
   "metadata": {
    "raw_mimetype": "text/restructuredtext"
   },
   "source": [
    ".. rubric:: References\n",
    "\n",
    ".. footbibliography::"
   ]
  }
 ],
 "metadata": {
  "celltoolbar": "Raw Cell Format",
  "kernelspec": {
   "display_name": "Python 3 (ipykernel)",
   "language": "python",
   "name": "python3"
  },
  "language_info": {
   "codemirror_mode": {
    "name": "ipython",
    "version": 3
   },
   "file_extension": ".py",
   "mimetype": "text/x-python",
   "name": "python",
   "nbconvert_exporter": "python",
   "pygments_lexer": "ipython3",
   "version": "3.9.7"
  }
 },
 "nbformat": 4,
 "nbformat_minor": 5
}
